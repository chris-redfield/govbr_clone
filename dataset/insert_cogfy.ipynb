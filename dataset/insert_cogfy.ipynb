{
 "cells": [
  {
   "cell_type": "code",
   "execution_count": 1,
   "id": "1706ac87-9515-4298-ac2f-66bd220c5062",
   "metadata": {},
   "outputs": [],
   "source": [
    "import pandas as pd\n",
    "import os\n",
    "from cogfy_manager import CogfyClient\n",
    "from urllib.parse import urljoin\n",
    "import requests\n",
    "from tqdm.notebook import tqdm\n",
    "from dotenv import load_dotenv"
   ]
  },
  {
   "cell_type": "code",
   "execution_count": 2,
   "id": "39a5380a-1df7-449c-b185-be7c79606a91",
   "metadata": {},
   "outputs": [
    {
     "data": {
      "text/html": [
       "<div>\n",
       "<style scoped>\n",
       "    .dataframe tbody tr th:only-of-type {\n",
       "        vertical-align: middle;\n",
       "    }\n",
       "\n",
       "    .dataframe tbody tr th {\n",
       "        vertical-align: top;\n",
       "    }\n",
       "\n",
       "    .dataframe thead th {\n",
       "        text-align: right;\n",
       "    }\n",
       "</style>\n",
       "<table border=\"1\" class=\"dataframe\">\n",
       "  <thead>\n",
       "    <tr style=\"text-align: right;\">\n",
       "      <th></th>\n",
       "      <th>pergunta</th>\n",
       "      <th>classe</th>\n",
       "      <th>resposta</th>\n",
       "    </tr>\n",
       "  </thead>\n",
       "  <tbody>\n",
       "    <tr>\n",
       "      <th>0</th>\n",
       "      <td>Quais serviços estão disponíveis nos balcões d...</td>\n",
       "      <td>Geral – Atendimento Presencial</td>\n",
       "      <td>A plataforma gov.br está com uma iniciativa de...</td>\n",
       "    </tr>\n",
       "    <tr>\n",
       "      <th>1</th>\n",
       "      <td>Qual suporte vocês oferecem para problemas enc...</td>\n",
       "      <td>Geral - Problema em sistemas diversos</td>\n",
       "      <td>Escrevemos em atenção à sua solicitação para i...</td>\n",
       "    </tr>\n",
       "    <tr>\n",
       "      <th>2</th>\n",
       "      <td>Como faço para obter um arquivo com o registro...</td>\n",
       "      <td>Geral - Arquivo da conversa no chat</td>\n",
       "      <td>Para solicitar o arquivo com esta conversa, pe...</td>\n",
       "    </tr>\n",
       "    <tr>\n",
       "      <th>3</th>\n",
       "      <td>Qual é o número de telefone para atendimento s...</td>\n",
       "      <td>Geral - Atendimento telefônico</td>\n",
       "      <td>Não há canal para atendimento telefônico sobre...</td>\n",
       "    </tr>\n",
       "    <tr>\n",
       "      <th>4</th>\n",
       "      <td>Como posso deixar uma avaliação positiva sobre...</td>\n",
       "      <td>Geral - Elogios</td>\n",
       "      <td>Agradecemos o seu elogio! A equipe gov.br está...</td>\n",
       "    </tr>\n",
       "    <tr>\n",
       "      <th>...</th>\n",
       "      <td>...</td>\n",
       "      <td>...</td>\n",
       "      <td>...</td>\n",
       "    </tr>\n",
       "    <tr>\n",
       "      <th>74</th>\n",
       "      <td>Como faço para acessar os serviços de Imposto ...</td>\n",
       "      <td>Nível insuficiente - Imposto de Renda</td>\n",
       "      <td>Os serviços de Imposto de Renda (https://www.g...</td>\n",
       "    </tr>\n",
       "    <tr>\n",
       "      <th>75</th>\n",
       "      <td>Como um MEI pode acessar e melhorar o nível da...</td>\n",
       "      <td>Nível insuficiente - MEI</td>\n",
       "      <td>Os serviços de MEI são prestados pela Receita ...</td>\n",
       "    </tr>\n",
       "    <tr>\n",
       "      <th>76</th>\n",
       "      <td>Como posso acessar os serviços do Meu INSS se ...</td>\n",
       "      <td>Nível insuficiente - Meu INSS</td>\n",
       "      <td>Os serviços do Meu INSS (https://meu.inss.gov....</td>\n",
       "    </tr>\n",
       "    <tr>\n",
       "      <th>77</th>\n",
       "      <td>Como posso acessar e utilizar o sistema Regist...</td>\n",
       "      <td>Nível insuficiente - Registrato</td>\n",
       "      <td>O sistema Registrato (https://registrato.bcb.g...</td>\n",
       "    </tr>\n",
       "    <tr>\n",
       "      <th>78</th>\n",
       "      <td>Como posso consultar e solicitar a devolução d...</td>\n",
       "      <td>Nível insuficiente - Valores a Receber</td>\n",
       "      <td>O sistema Valores a Receber (https://www.gov.b...</td>\n",
       "    </tr>\n",
       "  </tbody>\n",
       "</table>\n",
       "<p>79 rows × 3 columns</p>\n",
       "</div>"
      ],
      "text/plain": [
       "                                             pergunta  \\\n",
       "0   Quais serviços estão disponíveis nos balcões d...   \n",
       "1   Qual suporte vocês oferecem para problemas enc...   \n",
       "2   Como faço para obter um arquivo com o registro...   \n",
       "3   Qual é o número de telefone para atendimento s...   \n",
       "4   Como posso deixar uma avaliação positiva sobre...   \n",
       "..                                                ...   \n",
       "74  Como faço para acessar os serviços de Imposto ...   \n",
       "75  Como um MEI pode acessar e melhorar o nível da...   \n",
       "76  Como posso acessar os serviços do Meu INSS se ...   \n",
       "77  Como posso acessar e utilizar o sistema Regist...   \n",
       "78  Como posso consultar e solicitar a devolução d...   \n",
       "\n",
       "                                    classe  \\\n",
       "0           Geral – Atendimento Presencial   \n",
       "1    Geral - Problema em sistemas diversos   \n",
       "2      Geral - Arquivo da conversa no chat   \n",
       "3           Geral - Atendimento telefônico   \n",
       "4                          Geral - Elogios   \n",
       "..                                     ...   \n",
       "74   Nível insuficiente - Imposto de Renda   \n",
       "75                Nível insuficiente - MEI   \n",
       "76           Nível insuficiente - Meu INSS   \n",
       "77         Nível insuficiente - Registrato   \n",
       "78  Nível insuficiente - Valores a Receber   \n",
       "\n",
       "                                             resposta  \n",
       "0   A plataforma gov.br está com uma iniciativa de...  \n",
       "1   Escrevemos em atenção à sua solicitação para i...  \n",
       "2   Para solicitar o arquivo com esta conversa, pe...  \n",
       "3   Não há canal para atendimento telefônico sobre...  \n",
       "4   Agradecemos o seu elogio! A equipe gov.br está...  \n",
       "..                                                ...  \n",
       "74  Os serviços de Imposto de Renda (https://www.g...  \n",
       "75  Os serviços de MEI são prestados pela Receita ...  \n",
       "76  Os serviços do Meu INSS (https://meu.inss.gov....  \n",
       "77  O sistema Registrato (https://registrato.bcb.g...  \n",
       "78  O sistema Valores a Receber (https://www.gov.b...  \n",
       "\n",
       "[79 rows x 3 columns]"
      ]
     },
     "execution_count": 2,
     "metadata": {},
     "output_type": "execute_result"
    }
   ],
   "source": [
    "load_dotenv()\n",
    "\n",
    "df = pd.read_csv(\"../dataset/scripts_dataset.csv\")\n",
    "df"
   ]
  },
  {
   "cell_type": "code",
   "execution_count": 3,
   "id": "86b23894-296b-426d-953a-85a434ec742d",
   "metadata": {},
   "outputs": [],
   "source": [
    "k = os.environ[\"COGFY_API_KEY\"]\n",
    "api_url = \"https://public-api.serpro.cogfy.com\"\n",
    "client = CogfyClient(base_url=api_url, api_key=k)"
   ]
  },
  {
   "cell_type": "code",
   "execution_count": 5,
   "id": "87b50bea-3dbb-4b18-9f21-3771caa97f50",
   "metadata": {},
   "outputs": [
    {
     "data": {
      "text/plain": [
       "'a890f4f5-80b5-4c61-86d8-c447c7c4f6bd'"
      ]
     },
     "execution_count": 5,
     "metadata": {},
     "output_type": "execute_result"
    }
   ],
   "source": [
    "# Collection Gov.br\n",
    "collection_id = client.get_collection_id(\"dataset_train\")\n",
    "collection_id"
   ]
  },
  {
   "cell_type": "code",
   "execution_count": 6,
   "id": "85cd1e61-75e5-40b6-804b-918f17aa5111",
   "metadata": {},
   "outputs": [
    {
     "data": {
      "text/plain": [
       "Collection(id='a890f4f5-80b5-4c61-86d8-c447c7c4f6bd', name='dataset_train')"
      ]
     },
     "execution_count": 6,
     "metadata": {},
     "output_type": "execute_result"
    }
   ],
   "source": [
    "client.find_collection(collection_id)"
   ]
  },
  {
   "cell_type": "code",
   "execution_count": 7,
   "id": "50fbd8be-06df-46f8-a513-10fd3bbabf76",
   "metadata": {},
   "outputs": [],
   "source": [
    "field_id = \"dcc473a3-6e98-4fd3-87c4-67d0091674f9\"\n",
    "chat_id = \"5c400d65-b89d-4d93-801e-dbee18a122bb\""
   ]
  },
  {
   "cell_type": "code",
   "execution_count": 9,
   "id": "1ed2bccc-0262-4f4c-8e95-266cc33428c9",
   "metadata": {},
   "outputs": [
    {
     "data": {
      "text/plain": [
       "'a890f4f5-80b5-4c61-86d8-c447c7c4f6bd'"
      ]
     },
     "execution_count": 9,
     "metadata": {},
     "output_type": "execute_result"
    }
   ],
   "source": [
    "collection_id"
   ]
  },
  {
   "cell_type": "markdown",
   "id": "cd51979a-57e2-452f-9517-0e7dc62f9cfe",
   "metadata": {},
   "source": [
    "### Test run"
   ]
  },
  {
   "cell_type": "code",
   "execution_count": 19,
   "id": "2c65e468-6ffd-45e3-af65-fd60da9daf3f",
   "metadata": {},
   "outputs": [
    {
     "data": {
      "text/plain": [
       "{'id': 'fc4b3c62-3a66-47a7-bf8a-66bb763274fe'}"
      ]
     },
     "execution_count": 19,
     "metadata": {},
     "output_type": "execute_result"
    }
   ],
   "source": [
    "params = {\n",
    "    \"1e4955ef-b251-4294-9169-e575acbe3ef3\": {\n",
    "        \"type\": \"text\",\n",
    "        \"text\": {\"value\": \"Orientações cadastro #32\"}\n",
    "    },\n",
    "    \"5d06f718-4e4c-47d1-991b-14a1f63bbd46\": {\n",
    "        \"type\": \"text\",\n",
    "        \"text\": {\"value\": \"como faço para mudar minha conta para ouro ?\"}\n",
    "    },\n",
    "    \"5748c4bb-4fac-48be-a6ba-5ddcbb196f40\": {\n",
    "        \"type\": \"text\",\n",
    "        \"text\": {\"value\": \"Para mudar sua Conta GOV.BR para o nível Ouro, você pode seguir estas orientações principais:\"}\n",
    "    }\n",
    "}\n",
    "client.create_record(collection_id=collection_id, properties=params)"
   ]
  },
  {
   "cell_type": "code",
   "execution_count": 21,
   "id": "8cdb9115-d777-48fa-ba3f-aa3a54653612",
   "metadata": {},
   "outputs": [],
   "source": [
    "def generate_payload(categoria: str, pergunta: str, resposta_esperada: str):\n",
    "    params = {\n",
    "        \"1e4955ef-b251-4294-9169-e575acbe3ef3\": {\n",
    "            \"type\": \"text\",\n",
    "            \"text\": {\"value\": categoria}\n",
    "        },\n",
    "        \"5d06f718-4e4c-47d1-991b-14a1f63bbd46\": {\n",
    "            \"type\": \"text\",\n",
    "            \"text\": {\"value\": pergunta}\n",
    "        },\n",
    "        \"5748c4bb-4fac-48be-a6ba-5ddcbb196f40\": {\n",
    "            \"type\": \"text\",\n",
    "            \"text\": {\"value\": resposta_esperada}\n",
    "        }\n",
    "    }\n",
    "    return params"
   ]
  },
  {
   "cell_type": "code",
   "execution_count": 22,
   "id": "494ea94d-6697-43df-97c0-9be7585adaa3",
   "metadata": {},
   "outputs": [
    {
     "data": {
      "application/vnd.jupyter.widget-view+json": {
       "model_id": "714866636e2940ba8daca73281597f0e",
       "version_major": 2,
       "version_minor": 0
      },
      "text/plain": [
       "  0%|          | 0/79 [00:00<?, ?it/s]"
      ]
     },
     "metadata": {},
     "output_type": "display_data"
    }
   ],
   "source": [
    "for idx, row in tqdm(df.iterrows(), total=len(df)):\n",
    "    properties = generate_payload(categoria=row.classe, pergunta=row.pergunta, resposta_esperada=row.resposta)\n",
    "    client.create_record(collection_id=collection_id, properties=properties)\n"
   ]
  },
  {
   "cell_type": "code",
   "execution_count": null,
   "id": "5ed416a8-59e0-40f6-b675-1645d6a8ab1e",
   "metadata": {},
   "outputs": [],
   "source": []
  }
 ],
 "metadata": {
  "kernelspec": {
   "display_name": "Python 3 (ipykernel)",
   "language": "python",
   "name": "python3"
  },
  "language_info": {
   "codemirror_mode": {
    "name": "ipython",
    "version": 3
   },
   "file_extension": ".py",
   "mimetype": "text/x-python",
   "name": "python",
   "nbconvert_exporter": "python",
   "pygments_lexer": "ipython3",
   "version": "3.10.16"
  }
 },
 "nbformat": 4,
 "nbformat_minor": 5
}
